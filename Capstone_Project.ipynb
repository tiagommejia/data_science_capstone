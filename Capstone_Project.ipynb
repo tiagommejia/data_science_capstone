{
 "cells": [
  {
   "cell_type": "markdown",
   "metadata": {},
   "source": [
    "# __Data Science Capstone Project__"
   ]
  },
  {
   "cell_type": "markdown",
   "metadata": {},
   "source": [
    "## 1. _Defining the Problem_"
   ]
  },
  {
   "cell_type": "markdown",
   "metadata": {},
   "source": [
    "\n",
    "Most of the uses of Data Science has to be with business. Nowadays, most of companies are data-driven and They make decisions based on data which is analyzed by data analysts or data scientists. These decisions might be related to costs, expenses or investments. \n",
    "\n",
    "For this project let's think about an investment firm which is willing to start a new business in Canada. They want to launch a new bakery and coffe shop in some specific places in the Great Toronto Area. The idea is to identify those neighborhoods which do not have this kind of business in a radio of 30 kms (e.g Tim Hortons or Starbucks) and set the new business in those places. It is also important to identify the population in this neigborhoods so they can decide wheter it is worthed or not.\n"
   ]
  },
  {
   "cell_type": "markdown",
   "metadata": {},
   "source": [
    "## 2. _Datasets to be used_"
   ]
  },
  {
   "cell_type": "markdown",
   "metadata": {},
   "source": [
    "The datasets that are going to be used for this project  are:\n",
    "* Great Toronto Area postal codes. The regions that comprise this area are: Toronto City, Durham, Halton, Peel and York.\n",
    "* Great Toronto Area population by region.\n",
    "* Foursquare location data to identify all the similar business within this area."
   ]
  },
  {
   "cell_type": "code",
   "execution_count": null,
   "metadata": {},
   "outputs": [],
   "source": []
  }
 ],
 "metadata": {
  "kernelspec": {
   "display_name": "Python",
   "language": "python",
   "name": "conda-env-python-py"
  },
  "language_info": {
   "codemirror_mode": {
    "name": "ipython",
    "version": 3
   },
   "file_extension": ".py",
   "mimetype": "text/x-python",
   "name": "python",
   "nbconvert_exporter": "python",
   "pygments_lexer": "ipython3",
   "version": "3.6.10"
  }
 },
 "nbformat": 4,
 "nbformat_minor": 4
}
